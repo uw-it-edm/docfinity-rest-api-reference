{
 "cells": [
  {
   "cell_type": "markdown",
   "source": [
    "# DocFinity REST API Playground\n",
    "\n",
    "Welcome! With this notebook you can try out the DocFinity REST API. To get started, let's make sure everything is set up to run Jupyter Notebooks:\n",
    "\n",
    "1. Clone the repo `git clone https://github.com/uw-it-edm/docfinity-rest-api-reference`\n",
    "2. Install [Python](https://www.python.org/) (v2 or v3)\n",
    "3. Install required packages:\n",
    "\n",
    "  ```bash\n",
    "      pip install jupyter\n",
    "      pip install requests\n",
    "      pip install json\n",
    "  ```\n",
    "\n",
    "4. To start the Jupyter server run `jupyter notebook`.\n",
    "5. Select the `rest-api.ipynb` notebook.\n",
    "\n",
    "## Configure the Access Certificate for Requests\n",
    "\n",
    "As part of your on-boarding, you should have received a certificate, use the cell below fill in your NetID as well as the paths to your local certificate and secret."
   ],
   "metadata": {}
  },
  {
   "cell_type": "code",
   "execution_count": 1,
   "source": [
    "# Import the common packages that will be used by all requests.\n",
    "import requests\n",
    "import json\n",
    "\n",
    "baseUrl = 'https://api.dev.concert.uw.edu'\n",
    "netId = 'MyNetID'  # Fill in your NetID\n",
    "certificate = (\n",
    "  '/path/to/cert.pem',\n",
    "  '/path/to/secret.key'\n",
    ")"
   ],
   "outputs": [],
   "metadata": {}
  },
  {
   "cell_type": "markdown",
   "source": [
    "## Create a Document\n",
    "\n",
    "We are going to start by uploading a new document to DocFinity. Notice that the request sends the file to upload as well as a file that has the metadata as JSON to use to index the document. We are going to create the document for a document type called `Sample for REST API`, this is document type created specifically for testing so users can try out the API. However, you can update the code in the cell to target a different document type (as long as your access certificate has permissions).\n",
    "\n",
    "The response will contain the document identifier that you can use to reference the new document and will be used in subsequent requests.\n"
   ],
   "metadata": {}
  },
  {
   "cell_type": "code",
   "execution_count": null,
   "source": [
    "url = baseUrl + '/documents/v1/create'\n",
    "headers = { 'x-audituser': netId }\n",
    "metadata = {\n",
    "  'category': 'EDM Team',\n",
    "  'documentType': 'Sample for REST API',\n",
    "  'metadata': [{\n",
    "      'name': 'Document Title',\n",
    "      'values': ['From REST Playground']\n",
    "  }]\n",
    "}\n",
    "\n",
    "files = [\n",
    "  ('documentFile', ('testFile.txt','Sample File from REST API')),\n",
    "  ('metadataFile',('metadata-file.json', json.dumps(metadata), 'application/json'))\n",
    "]\n",
    "\n",
    "response = requests.post(url, data={}, files=files, cert=certificate, headers=headers)\n",
    "body = json.loads(response.text)\n",
    "documentId = body['id']\n",
    "print('Your new document id is:', body['id'])\n",
    "print('To open in DocFinity go to https://uw.cloudtest.docfinity.com/docfinity/urlapi/main/viewdoc/?docid=' + documentId)"
   ],
   "outputs": [],
   "metadata": {}
  },
  {
   "cell_type": "markdown",
   "source": [
    "## Retrieve the Attributes for a Document\n",
    "\n",
    "Using the document id, the request below will retrieve the attributes for the document, which are quite a lot. Notice the url is now `/docfinity` instead of `/documents`.\n"
   ],
   "metadata": {}
  },
  {
   "cell_type": "code",
   "execution_count": null,
   "source": [
    "url = baseUrl + '/docfinity/webservices/rest/document/' + documentId\n",
    "headers = { 'x-audituser': netId }\n",
    "response = requests.get(url, cert=certificate, headers=headers)\n",
    "body = json.loads(response.text)\n",
    "print(json.dumps(body, indent=2))"
   ],
   "outputs": [],
   "metadata": {}
  },
  {
   "cell_type": "markdown",
   "source": [
    "## Retrieve the Metadata of a Document\n",
    "\n",
    "The request below will retrieve the list of metadata with their values. Notice that in addition to the `name` and the list of `values` there is more information included by DocFinity."
   ],
   "metadata": {}
  },
  {
   "cell_type": "code",
   "execution_count": null,
   "source": [
    "url = baseUrl + '/docfinity/webservices/rest/document/details?documentId=' + documentId\n",
    "headers = { 'x-audituser': netId }\n",
    "response = requests.get(url, cert=certificate, headers=headers)\n",
    "body = json.loads(response.text)\n",
    "print(json.dumps(body, indent=2))"
   ],
   "outputs": [],
   "metadata": {}
  },
  {
   "cell_type": "markdown",
   "source": [
    "## Update Metadata of a Document\n",
    "\n",
    "Finally, let's update the metadata of the document. The request below will send the list of the metadata fields to modify as JSON."
   ],
   "metadata": {}
  },
  {
   "cell_type": "code",
   "execution_count": null,
   "source": [
    "url = baseUrl + '/documents/v1/update'\n",
    "headers = { \n",
    "  'x-audituser': netId,\n",
    "  'content-type': 'application/json'\n",
    "}\n",
    "metadata = {\n",
    "  'id': documentId,\n",
    "  'category': 'EDM Team',\n",
    "  'documentType': 'Sample for REST API',\n",
    "  'metadata': [\n",
    "    {\n",
    "      'name': 'Document Title',\n",
    "      'values': ['Updated value!']\n",
    "    },\n",
    "    {\n",
    "      'name': 'Document Description',\n",
    "      'values': ['This is the new document description']\n",
    "    }]\n",
    "}\n",
    "response = requests.post(url, data=json.dumps(metadata), cert=certificate, headers=headers)\n",
    "body = json.loads(response.text)\n",
    "print(json.dumps(body, indent=2))"
   ],
   "outputs": [],
   "metadata": {}
  }
 ],
 "metadata": {
  "interpreter": {
   "hash": "767d51c1340bd893661ea55ea3124f6de3c7a262a8b4abca0554b478b1e2ff90"
  },
  "kernelspec": {
   "display_name": "Python 2",
   "language": "python",
   "name": "python2"
  },
  "language_info": {
   "codemirror_mode": {
    "name": "ipython",
    "version": 2
   },
   "file_extension": ".py",
   "mimetype": "text/x-python",
   "name": "python",
   "nbconvert_exporter": "python",
   "pygments_lexer": "ipython2",
   "version": "2.7.16"
  }
 },
 "nbformat": 4,
 "nbformat_minor": 2
}